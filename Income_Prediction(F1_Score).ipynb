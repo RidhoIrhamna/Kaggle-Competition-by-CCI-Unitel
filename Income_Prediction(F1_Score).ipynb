{
 "cells": [
  {
   "cell_type": "code",
   "execution_count": null,
   "metadata": {
    "id": "kUXczdrJ6R7E"
   },
   "outputs": [],
   "source": [
    "# Importing necessary libraries\n",
    "import numpy as np\n",
    "import pandas as pd\n",
    "import matplotlib.pyplot as plt\n",
    "import seaborn as sns\n",
    "from sklearn.model_selection import train_test_split, RandomizedSearchCV, GridSearchCV, StratifiedKFold\n",
    "from sklearn.preprocessing import StandardScaler, LabelEncoder, OneHotEncoder\n",
    "from sklearn.metrics import accuracy_score, confusion_matrix, classification_report, f1_score\n",
    "from sklearn.ensemble import RandomForestClassifier\n",
    "from imblearn.over_sampling import ADASYN\n",
    "from scipy.stats import randint\n",
    "from tqdm import tqdm\n",
    "import warnings\n",
    "warnings.filterwarnings(\"ignore\")"
   ]
  },
  {
   "cell_type": "code",
   "execution_count": null,
   "metadata": {
    "id": "3C5bTH2g6VQm"
   },
   "outputs": [],
   "source": [
    "# Load data\n",
    "train_path = 'train.csv'\n",
    "test_path = 'test.csv'"
   ]
  },
  {
   "cell_type": "code",
   "execution_count": null,
   "metadata": {
    "id": "kn7be4M76zOI"
   },
   "outputs": [],
   "source": [
    "# Load datasets\n",
    "train = pd.read_csv(train_path)\n",
    "test = pd.read_csv(test_path)"
   ]
  },
  {
   "cell_type": "code",
   "execution_count": null,
   "metadata": {
    "id": "uR2Ugb1W8r2g"
   },
   "outputs": [],
   "source": [
    "# Preprocessing\n",
    "train.columns = train.columns.str.strip().str.replace(' ', '')\n",
    "train[\"income\"] = train[\"income\"].str.strip()\n",
    "test.columns = test.columns.str.strip().str.replace(' ', '')\n",
    "\n",
    "train = train.replace('?', np.nan)\n",
    "test = test.replace('?', np.nan)\n",
    "train.dropna(inplace=True)"
   ]
  },
  {
   "cell_type": "code",
   "execution_count": null,
   "metadata": {
    "id": "3zPYgg5z8uxq"
   },
   "outputs": [],
   "source": [
    "# Menambahkan fitur baru 'usia' dari 'TahunKelahiran'\n",
    "train['usia'] = 2024 - train['TahunKelahiran']\n",
    "test['usia'] = 2024 - test['TahunKelahiran']\n",
    "\n",
    "cat_columns = ['KelasPekerjaan', 'Pendidikan', 'JenjangPendidikan', 'Status', 'Pekerjaan', 'Hubungan', 'Etnis', 'sex', 'AsalNegara']\n",
    "df_dumy_train = pd.get_dummies(train, columns=cat_columns)\n",
    "df_dumy_test = pd.get_dummies(test, columns=cat_columns)\n",
    "\n",
    "df_dumy_test = df_dumy_test.reindex(columns=df_dumy_train.columns, fill_value=0)\n",
    "\n",
    "X = df_dumy_train.drop(\"income\", axis=1)\n",
    "y = df_dumy_train[\"income\"].apply(lambda x: 1 if x == '>50K' else 0)"
   ]
  },
  {
   "cell_type": "code",
   "execution_count": null,
   "metadata": {
    "id": "rEZ4sTr7xlvL"
   },
   "outputs": [],
   "source": [
    "# Balancing dengan ADASYN\n",
    "adasyn = ADASYN(random_state=42)\n",
    "X_adasyn, y_adasyn = adasyn.fit_resample(X, y)"
   ]
  },
  {
   "cell_type": "code",
   "execution_count": null,
   "metadata": {
    "id": "bBQ5_agH896L"
   },
   "outputs": [],
   "source": [
    "# Membagi data\n",
    "X_train, X_val, y_train, y_val = train_test_split(X_adasyn, y_adasyn, test_size=0.1, random_state=101)"
   ]
  },
  {
   "cell_type": "code",
   "execution_count": null,
   "metadata": {
    "id": "Ig6lZGF29OJO"
   },
   "outputs": [],
   "source": [
    "# Scaling fitur\n",
    "scaler = StandardScaler()\n",
    "scaled_X_train = scaler.fit_transform(X_train)\n",
    "scaled_X_val = scaler.transform(X_val)\n",
    "scaled_X_test = scaler.transform(df_dumy_test.drop(\"income\", axis=1, errors='ignore'))"
   ]
  },
  {
   "cell_type": "code",
   "execution_count": null,
   "metadata": {
    "id": "4ocsa75T9Rui"
   },
   "outputs": [],
   "source": [
    "# Tuning Hyperparameter dengan RandomizedSearchCV untuk RandomForestClassifier\n",
    "rf = RandomForestClassifier(random_state=42, class_weight='balanced')  # Tambahkan class_weight\n",
    "param_dist_rf = {\n",
    "    'n_estimators': randint(100, 1000),\n",
    "    'max_features': ['auto', 'sqrt', 'log2'],\n",
    "    'max_depth': randint(10, 150),\n",
    "    'min_samples_split': randint(2, 20),\n",
    "    'min_samples_leaf': randint(1, 20),\n",
    "    'bootstrap': [True, False]\n",
    "}"
   ]
  },
  {
   "cell_type": "code",
   "execution_count": null,
   "metadata": {
    "id": "QrNIDHNO6KS9"
   },
   "outputs": [],
   "source": [
    "# Tambahkan progress bar dengan tqdm\n",
    "random_search_rf = RandomizedSearchCV(\n",
    "    rf, param_distributions=param_dist_rf,\n",
    "    n_iter=200, cv=10, random_state=42, n_jobs=-1, verbose=1\n",
    ")\n"
   ]
  },
  {
   "cell_type": "code",
   "execution_count": null,
   "metadata": {
    "colab": {
     "base_uri": "https://localhost:8080/"
    },
    "id": "sUYbe_T6ruhG",
    "outputId": "658619af-107c-414e-9c8b-e488158fd743"
   },
   "outputs": [
    {
     "name": "stdout",
     "output_type": "stream",
     "text": [
      "Training model dengan RandomizedSearchCV...\n"
     ]
    },
    {
     "name": "stderr",
     "output_type": "stream",
     "text": [
      "\r  0%|          | 0/200 [00:00<?, ?it/s]"
     ]
    },
    {
     "name": "stdout",
     "output_type": "stream",
     "text": [
      "Fitting 10 folds for each of 200 candidates, totalling 2000 fits\n"
     ]
    }
   ],
   "source": [
    "# Progress tracking saat training model\n",
    "print(\"Training model dengan RandomizedSearchCV...\")\n",
    "with tqdm(total=200) as pbar:\n",
    "    random_search_rf.fit(scaled_X_train, y_train)\n",
    "    pbar.update(200)\n",
    "\n",
    "best_rf = random_search_rf.best_estimator_\n"
   ]
  },
  {
   "cell_type": "code",
   "execution_count": null,
   "metadata": {
    "id": "PxppSzZSr5rd"
   },
   "outputs": [],
   "source": [
    "# Fine-tuning lebih lanjut dengan GridSearchCV\n",
    "param_grid_rf = {\n",
    "    'n_estimators': [best_rf.n_estimators - 50, best_rf.n_estimators, best_rf.n_estimators + 50],\n",
    "    'max_depth': [best_rf.max_depth - 10, best_rf.max_depth, best_rf.max_depth + 10],\n",
    "    'min_samples_split': [best_rf.min_samples_split - 2, best_rf.min_samples_split, best_rf.min_samples_split + 2],\n",
    "    'min_samples_leaf': [best_rf.min_samples_leaf - 1, best_rf.min_samples_leaf, best_rf.min_samples_leaf + 1]\n",
    "}\n",
    "\n",
    "grid_search_rf = GridSearchCV(best_rf, param_grid=param_grid_rf, cv=10, n_jobs=-1, verbose=2)\n",
    "grid_search_rf.fit(scaled_X_train, y_train)"
   ]
  },
  {
   "cell_type": "code",
   "execution_count": null,
   "metadata": {
    "id": "8GGuvS4rr3-y"
   },
   "outputs": [],
   "source": [
    "# Ambil model terbaik setelah GridSearchCV\n",
    "best_rf = grid_search_rf.best_estimator_"
   ]
  },
  {
   "cell_type": "code",
   "execution_count": null,
   "metadata": {
    "id": "mKLb0cC8r21l"
   },
   "outputs": [],
   "source": [
    "# Evaluasi performa model pada validation set\n",
    "val_predictions = best_rf.predict(scaled_X_val)\n",
    "print(\"F1 Score (Validation Set):\", f1_score(y_val, val_predictions))\n",
    "print(classification_report(y_val, val_predictions))\n",
    "\n",
    "ConfusionMatrixDisplay.from_estimator(best_rf, scaled_X_val, y_val)\n",
    "plt.show()"
   ]
  },
  {
   "cell_type": "code",
   "execution_count": null,
   "metadata": {
    "id": "PQAz8fErr1br"
   },
   "outputs": [],
   "source": [
    "# Prediksi pada data test dengan progress bar\n",
    "print(\"Melakukan prediksi pada data test...\")\n",
    "with tqdm(total=len(scaled_X_test)) as pbar:\n",
    "    test_predictions = best_rf.predict(scaled_X_test)\n",
    "    pbar.update(len(scaled_X_test))"
   ]
  },
  {
   "cell_type": "code",
   "execution_count": null,
   "metadata": {
    "id": "v269fFeXrzgG"
   },
   "outputs": [],
   "source": [
    "# Buat DataFrame untuk submission\n",
    "submission = pd.DataFrame({\n",
    "    'ID': test['ID'],\n",
    "    'income': ['1' if pred == 1 else 0 for pred in test_predictions]\n",
    "})\n",
    "\n",
    "submission.to_csv('submission.csv', index=False)\n",
    "print(\"Submission file created: 'submissionF.csv'\")"
   ]
  }
 ],
 "metadata": {
  "colab": {
   "provenance": []
  },
  "kernelspec": {
   "display_name": "Python 3",
   "name": "python3"
  },
  "language_info": {
   "name": "python"
  }
 },
 "nbformat": 4,
 "nbformat_minor": 0
}
